{
 "cells": [
  {
   "cell_type": "code",
   "execution_count": 1,
   "id": "d5430bcc",
   "metadata": {},
   "outputs": [],
   "source": [
    "# import library\n",
    "import pandas as pd\n",
    "import numpy as np\n",
    "\n",
    "import seaborn as sns "
   ]
  },
  {
   "cell_type": "markdown",
   "id": "f3a2d192",
   "metadata": {},
   "source": [
    "# Q1. Pandas Version\n",
    "What's the version of Pandas that you installed?"
   ]
  },
  {
   "cell_type": "code",
   "execution_count": 2,
   "id": "4447794d",
   "metadata": {},
   "outputs": [
    {
     "name": "stdout",
     "output_type": "stream",
     "text": [
      "The installed Pandas version is 2.3.2\n"
     ]
    }
   ],
   "source": [
    "pd_version = pd.__version__\n",
    "\n",
    "# answer the question No.1\n",
    "print(f'The installed Pandas version is {pd_version}')"
   ]
  },
  {
   "cell_type": "markdown",
   "id": "98fb3be9",
   "metadata": {},
   "source": [
    "## Get the data"
   ]
  },
  {
   "cell_type": "code",
   "execution_count": 3,
   "id": "a97c7996",
   "metadata": {},
   "outputs": [
    {
     "name": "stdout",
     "output_type": "stream",
     "text": [
      "--2025-09-29 19:44:34--  https://raw.githubusercontent.com/alexeygrigorev/datasets/master/car_fuel_efficiency.csv\n",
      "Resolving raw.githubusercontent.com (raw.githubusercontent.com)... 185.199.109.133, 185.199.110.133, 185.199.111.133, ...\n",
      "Connecting to raw.githubusercontent.com (raw.githubusercontent.com)|185.199.109.133|:443... connected.\n",
      "HTTP request sent, awaiting response... 200 OK\n",
      "Length: 874188 (854K) [text/plain]\n",
      "Saving to: ‘car_fuel_efficiency.csv.1’\n",
      "\n",
      "car_fuel_efficiency 100%[===================>] 853.70K  --.-KB/s    in 0.006s  \n",
      "\n",
      "2025-09-29 19:44:34 (132 MB/s) - ‘car_fuel_efficiency.csv.1’ saved [874188/874188]\n",
      "\n"
     ]
    }
   ],
   "source": [
    "!wget https://raw.githubusercontent.com/alexeygrigorev/datasets/master/car_fuel_efficiency.csv "
   ]
  },
  {
   "cell_type": "code",
   "execution_count": 4,
   "id": "8b161b46",
   "metadata": {},
   "outputs": [
    {
     "data": {
      "text/html": [
       "<div>\n",
       "<style scoped>\n",
       "    .dataframe tbody tr th:only-of-type {\n",
       "        vertical-align: middle;\n",
       "    }\n",
       "\n",
       "    .dataframe tbody tr th {\n",
       "        vertical-align: top;\n",
       "    }\n",
       "\n",
       "    .dataframe thead th {\n",
       "        text-align: right;\n",
       "    }\n",
       "</style>\n",
       "<table border=\"1\" class=\"dataframe\">\n",
       "  <thead>\n",
       "    <tr style=\"text-align: right;\">\n",
       "      <th></th>\n",
       "      <th>engine_displacement</th>\n",
       "      <th>num_cylinders</th>\n",
       "      <th>horsepower</th>\n",
       "      <th>vehicle_weight</th>\n",
       "      <th>acceleration</th>\n",
       "      <th>model_year</th>\n",
       "      <th>origin</th>\n",
       "      <th>fuel_type</th>\n",
       "      <th>drivetrain</th>\n",
       "      <th>num_doors</th>\n",
       "      <th>fuel_efficiency_mpg</th>\n",
       "    </tr>\n",
       "  </thead>\n",
       "  <tbody>\n",
       "    <tr>\n",
       "      <th>0</th>\n",
       "      <td>170</td>\n",
       "      <td>3.0</td>\n",
       "      <td>159.0</td>\n",
       "      <td>3413.433759</td>\n",
       "      <td>17.7</td>\n",
       "      <td>2003</td>\n",
       "      <td>Europe</td>\n",
       "      <td>Gasoline</td>\n",
       "      <td>All-wheel drive</td>\n",
       "      <td>0.0</td>\n",
       "      <td>13.231729</td>\n",
       "    </tr>\n",
       "    <tr>\n",
       "      <th>1</th>\n",
       "      <td>130</td>\n",
       "      <td>5.0</td>\n",
       "      <td>97.0</td>\n",
       "      <td>3149.664934</td>\n",
       "      <td>17.8</td>\n",
       "      <td>2007</td>\n",
       "      <td>USA</td>\n",
       "      <td>Gasoline</td>\n",
       "      <td>Front-wheel drive</td>\n",
       "      <td>0.0</td>\n",
       "      <td>13.688217</td>\n",
       "    </tr>\n",
       "    <tr>\n",
       "      <th>2</th>\n",
       "      <td>170</td>\n",
       "      <td>NaN</td>\n",
       "      <td>78.0</td>\n",
       "      <td>3079.038997</td>\n",
       "      <td>15.1</td>\n",
       "      <td>2018</td>\n",
       "      <td>Europe</td>\n",
       "      <td>Gasoline</td>\n",
       "      <td>Front-wheel drive</td>\n",
       "      <td>0.0</td>\n",
       "      <td>14.246341</td>\n",
       "    </tr>\n",
       "    <tr>\n",
       "      <th>3</th>\n",
       "      <td>220</td>\n",
       "      <td>4.0</td>\n",
       "      <td>NaN</td>\n",
       "      <td>2542.392402</td>\n",
       "      <td>20.2</td>\n",
       "      <td>2009</td>\n",
       "      <td>USA</td>\n",
       "      <td>Diesel</td>\n",
       "      <td>All-wheel drive</td>\n",
       "      <td>2.0</td>\n",
       "      <td>16.912736</td>\n",
       "    </tr>\n",
       "    <tr>\n",
       "      <th>4</th>\n",
       "      <td>210</td>\n",
       "      <td>1.0</td>\n",
       "      <td>140.0</td>\n",
       "      <td>3460.870990</td>\n",
       "      <td>14.4</td>\n",
       "      <td>2009</td>\n",
       "      <td>Europe</td>\n",
       "      <td>Gasoline</td>\n",
       "      <td>All-wheel drive</td>\n",
       "      <td>2.0</td>\n",
       "      <td>12.488369</td>\n",
       "    </tr>\n",
       "    <tr>\n",
       "      <th>...</th>\n",
       "      <td>...</td>\n",
       "      <td>...</td>\n",
       "      <td>...</td>\n",
       "      <td>...</td>\n",
       "      <td>...</td>\n",
       "      <td>...</td>\n",
       "      <td>...</td>\n",
       "      <td>...</td>\n",
       "      <td>...</td>\n",
       "      <td>...</td>\n",
       "      <td>...</td>\n",
       "    </tr>\n",
       "    <tr>\n",
       "      <th>9699</th>\n",
       "      <td>140</td>\n",
       "      <td>5.0</td>\n",
       "      <td>164.0</td>\n",
       "      <td>2981.107371</td>\n",
       "      <td>17.3</td>\n",
       "      <td>2013</td>\n",
       "      <td>Europe</td>\n",
       "      <td>Diesel</td>\n",
       "      <td>Front-wheel drive</td>\n",
       "      <td>NaN</td>\n",
       "      <td>15.101802</td>\n",
       "    </tr>\n",
       "    <tr>\n",
       "      <th>9700</th>\n",
       "      <td>180</td>\n",
       "      <td>NaN</td>\n",
       "      <td>154.0</td>\n",
       "      <td>2439.525729</td>\n",
       "      <td>15.0</td>\n",
       "      <td>2004</td>\n",
       "      <td>USA</td>\n",
       "      <td>Gasoline</td>\n",
       "      <td>All-wheel drive</td>\n",
       "      <td>0.0</td>\n",
       "      <td>17.962326</td>\n",
       "    </tr>\n",
       "    <tr>\n",
       "      <th>9701</th>\n",
       "      <td>220</td>\n",
       "      <td>2.0</td>\n",
       "      <td>138.0</td>\n",
       "      <td>2583.471318</td>\n",
       "      <td>15.1</td>\n",
       "      <td>2008</td>\n",
       "      <td>USA</td>\n",
       "      <td>Diesel</td>\n",
       "      <td>All-wheel drive</td>\n",
       "      <td>-1.0</td>\n",
       "      <td>17.186587</td>\n",
       "    </tr>\n",
       "    <tr>\n",
       "      <th>9702</th>\n",
       "      <td>230</td>\n",
       "      <td>4.0</td>\n",
       "      <td>177.0</td>\n",
       "      <td>2905.527390</td>\n",
       "      <td>19.4</td>\n",
       "      <td>2011</td>\n",
       "      <td>USA</td>\n",
       "      <td>Diesel</td>\n",
       "      <td>Front-wheel drive</td>\n",
       "      <td>1.0</td>\n",
       "      <td>15.331551</td>\n",
       "    </tr>\n",
       "    <tr>\n",
       "      <th>9703</th>\n",
       "      <td>270</td>\n",
       "      <td>3.0</td>\n",
       "      <td>140.0</td>\n",
       "      <td>2908.043477</td>\n",
       "      <td>14.7</td>\n",
       "      <td>2005</td>\n",
       "      <td>Asia</td>\n",
       "      <td>Diesel</td>\n",
       "      <td>All-wheel drive</td>\n",
       "      <td>-1.0</td>\n",
       "      <td>14.884467</td>\n",
       "    </tr>\n",
       "  </tbody>\n",
       "</table>\n",
       "<p>9704 rows × 11 columns</p>\n",
       "</div>"
      ],
      "text/plain": [
       "      engine_displacement  num_cylinders  horsepower  vehicle_weight  \\\n",
       "0                     170            3.0       159.0     3413.433759   \n",
       "1                     130            5.0        97.0     3149.664934   \n",
       "2                     170            NaN        78.0     3079.038997   \n",
       "3                     220            4.0         NaN     2542.392402   \n",
       "4                     210            1.0       140.0     3460.870990   \n",
       "...                   ...            ...         ...             ...   \n",
       "9699                  140            5.0       164.0     2981.107371   \n",
       "9700                  180            NaN       154.0     2439.525729   \n",
       "9701                  220            2.0       138.0     2583.471318   \n",
       "9702                  230            4.0       177.0     2905.527390   \n",
       "9703                  270            3.0       140.0     2908.043477   \n",
       "\n",
       "      acceleration  model_year  origin fuel_type         drivetrain  \\\n",
       "0             17.7        2003  Europe  Gasoline    All-wheel drive   \n",
       "1             17.8        2007     USA  Gasoline  Front-wheel drive   \n",
       "2             15.1        2018  Europe  Gasoline  Front-wheel drive   \n",
       "3             20.2        2009     USA    Diesel    All-wheel drive   \n",
       "4             14.4        2009  Europe  Gasoline    All-wheel drive   \n",
       "...            ...         ...     ...       ...                ...   \n",
       "9699          17.3        2013  Europe    Diesel  Front-wheel drive   \n",
       "9700          15.0        2004     USA  Gasoline    All-wheel drive   \n",
       "9701          15.1        2008     USA    Diesel    All-wheel drive   \n",
       "9702          19.4        2011     USA    Diesel  Front-wheel drive   \n",
       "9703          14.7        2005    Asia    Diesel    All-wheel drive   \n",
       "\n",
       "      num_doors  fuel_efficiency_mpg  \n",
       "0           0.0            13.231729  \n",
       "1           0.0            13.688217  \n",
       "2           0.0            14.246341  \n",
       "3           2.0            16.912736  \n",
       "4           2.0            12.488369  \n",
       "...         ...                  ...  \n",
       "9699        NaN            15.101802  \n",
       "9700        0.0            17.962326  \n",
       "9701       -1.0            17.186587  \n",
       "9702        1.0            15.331551  \n",
       "9703       -1.0            14.884467  \n",
       "\n",
       "[9704 rows x 11 columns]"
      ]
     },
     "execution_count": 4,
     "metadata": {},
     "output_type": "execute_result"
    }
   ],
   "source": [
    "# read the csv file\n",
    "df = pd.read_csv('../Intro/car_fuel_efficiency.csv')\n",
    "\n",
    "# shows the all records file\n",
    "df"
   ]
  },
  {
   "cell_type": "markdown",
   "id": "c1b9a4cd",
   "metadata": {},
   "source": [
    "# Q2. Records count\n",
    "How many records are in the dataset?"
   ]
  },
  {
   "cell_type": "code",
   "execution_count": 5,
   "id": "e01768fd",
   "metadata": {},
   "outputs": [
    {
     "name": "stdout",
     "output_type": "stream",
     "text": [
      "Dataset has 9704 records\n"
     ]
    }
   ],
   "source": [
    "# define records to the variable\n",
    "records = df.shape[0]\n",
    "\n",
    "# answer the qustion no.2\n",
    "print(f'Dataset has {records} records')"
   ]
  },
  {
   "cell_type": "markdown",
   "id": "4bd8cd83",
   "metadata": {},
   "source": [
    "# Q3. Fuel types\n",
    "How many fuel types are represented in the dataset?"
   ]
  },
  {
   "cell_type": "code",
   "execution_count": 6,
   "id": "56b1479f",
   "metadata": {},
   "outputs": [
    {
     "name": "stdout",
     "output_type": "stream",
     "text": [
      "Total unique value on dataset :\n",
      "engine_displacement      36\n",
      "num_cylinders            14\n",
      "horsepower              192\n",
      "vehicle_weight         9704\n",
      "acceleration            162\n",
      "model_year               24\n",
      "origin                    3\n",
      "fuel_type                 2\n",
      "drivetrain                2\n",
      "num_doors                 9\n",
      "fuel_efficiency_mpg    9704\n",
      "dtype: int64\n",
      "\n",
      "List all the values on fuel type column :\n",
      "fuel_type\n",
      "Gasoline    4898\n",
      "Diesel      4806\n",
      "Name: count, dtype: int64\n"
     ]
    }
   ],
   "source": [
    "# total unique value on dataset\n",
    "distinct_value_of_all_col = df.nunique()\n",
    "print('Total unique value on dataset :')\n",
    "print(distinct_value_of_all_col)\n",
    "\n",
    "print()\n",
    "\n",
    "# list all values on fuel_type column\n",
    "fuel_type_values= df['fuel_type'].value_counts()\n",
    "print('List all the values on fuel type column :')\n",
    "print(fuel_type_values)"
   ]
  },
  {
   "cell_type": "code",
   "execution_count": 7,
   "id": "3e9c95ca",
   "metadata": {},
   "outputs": [
    {
     "name": "stdout",
     "output_type": "stream",
     "text": [
      "Fuel type has 2, such as Gasoline and Diesel.\n"
     ]
    }
   ],
   "source": [
    "# define the total and unique values on fuel type column\n",
    "total_unique_of_fuel_type = df['fuel_type'].nunique()\n",
    "unique_values_of_fuel_type = df['fuel_type'].unique()\n",
    "\n",
    "# define first and second values\n",
    "value_1 = unique_values_of_fuel_type[0]\n",
    "value_2 = unique_values_of_fuel_type[1]\n",
    "\n",
    "# answer the quesion no.3\n",
    "print(f'Fuel type has {total_unique_of_fuel_type}, such as {value_1} and {value_2}.')"
   ]
  },
  {
   "cell_type": "markdown",
   "id": "ca53ae58",
   "metadata": {},
   "source": [
    "# Q4. Missing values\n",
    "How many columns in dataset have missing values?"
   ]
  },
  {
   "cell_type": "code",
   "execution_count": 8,
   "id": "fc206f14",
   "metadata": {},
   "outputs": [
    {
     "data": {
      "text/plain": [
       "engine_displacement      0\n",
       "num_cylinders          482\n",
       "horsepower             708\n",
       "vehicle_weight           0\n",
       "acceleration           930\n",
       "model_year               0\n",
       "origin                   0\n",
       "fuel_type                0\n",
       "drivetrain               0\n",
       "num_doors              502\n",
       "fuel_efficiency_mpg      0\n",
       "dtype: int64"
      ]
     },
     "execution_count": 8,
     "metadata": {},
     "output_type": "execute_result"
    }
   ],
   "source": [
    "# check missing values\n",
    "missing_values_check = df.isnull().sum()\n",
    "missing_values_check"
   ]
  },
  {
   "cell_type": "code",
   "execution_count": 9,
   "id": "d3094fcb",
   "metadata": {},
   "outputs": [
    {
     "name": "stdout",
     "output_type": "stream",
     "text": [
      "Amount of missing values in dataset is 4, there are num_cylinders, horsepower, acceleration, and num_doors columns.\n"
     ]
    }
   ],
   "source": [
    "# define missing values columns\n",
    "missing_values_col = missing_values_check[missing_values_check > 0]\n",
    "missing_values_col\n",
    "\n",
    "# define total of missing values\n",
    "total_missing_values = missing_values_col.count()\n",
    "\n",
    "# define column names contains missing values\n",
    "missing_values_name = missing_values_col.index\n",
    "col_names_1 = missing_values_name[0]\n",
    "col_names_2 = missing_values_name[1]\n",
    "col_names_3 = missing_values_name[2]\n",
    "col_names_4 = missing_values_name[3]\n",
    "\n",
    "# answer the question no.4\n",
    "print(f'Amount of missing values in dataset is {total_missing_values}, there are {col_names_1}, {col_names_2}, {col_names_3}, and {col_names_4} columns.')"
   ]
  },
  {
   "cell_type": "markdown",
   "id": "74815136",
   "metadata": {},
   "source": [
    "# Q5. Max fuel efficiency\n",
    "What's the maximum fuel efficiency of cars from Asia ?"
   ]
  },
  {
   "cell_type": "code",
   "execution_count": 10,
   "id": "015ae667",
   "metadata": {},
   "outputs": [
    {
     "data": {
      "text/html": [
       "<div>\n",
       "<style scoped>\n",
       "    .dataframe tbody tr th:only-of-type {\n",
       "        vertical-align: middle;\n",
       "    }\n",
       "\n",
       "    .dataframe tbody tr th {\n",
       "        vertical-align: top;\n",
       "    }\n",
       "\n",
       "    .dataframe thead th {\n",
       "        text-align: right;\n",
       "    }\n",
       "</style>\n",
       "<table border=\"1\" class=\"dataframe\">\n",
       "  <thead>\n",
       "    <tr style=\"text-align: right;\">\n",
       "      <th></th>\n",
       "      <th>engine_displacement</th>\n",
       "      <th>num_cylinders</th>\n",
       "      <th>horsepower</th>\n",
       "      <th>vehicle_weight</th>\n",
       "      <th>acceleration</th>\n",
       "      <th>model_year</th>\n",
       "      <th>origin</th>\n",
       "      <th>fuel_type</th>\n",
       "      <th>drivetrain</th>\n",
       "      <th>num_doors</th>\n",
       "      <th>fuel_efficiency_mpg</th>\n",
       "    </tr>\n",
       "  </thead>\n",
       "  <tbody>\n",
       "    <tr>\n",
       "      <th>8</th>\n",
       "      <td>250</td>\n",
       "      <td>1.0</td>\n",
       "      <td>174.0</td>\n",
       "      <td>2714.219310</td>\n",
       "      <td>10.3</td>\n",
       "      <td>2016</td>\n",
       "      <td>Asia</td>\n",
       "      <td>Diesel</td>\n",
       "      <td>Front-wheel drive</td>\n",
       "      <td>-1.0</td>\n",
       "      <td>16.823554</td>\n",
       "    </tr>\n",
       "    <tr>\n",
       "      <th>12</th>\n",
       "      <td>320</td>\n",
       "      <td>5.0</td>\n",
       "      <td>145.0</td>\n",
       "      <td>2783.868974</td>\n",
       "      <td>15.1</td>\n",
       "      <td>2010</td>\n",
       "      <td>Asia</td>\n",
       "      <td>Diesel</td>\n",
       "      <td>All-wheel drive</td>\n",
       "      <td>1.0</td>\n",
       "      <td>16.175820</td>\n",
       "    </tr>\n",
       "    <tr>\n",
       "      <th>14</th>\n",
       "      <td>200</td>\n",
       "      <td>6.0</td>\n",
       "      <td>160.0</td>\n",
       "      <td>3582.687368</td>\n",
       "      <td>14.9</td>\n",
       "      <td>2007</td>\n",
       "      <td>Asia</td>\n",
       "      <td>Diesel</td>\n",
       "      <td>All-wheel drive</td>\n",
       "      <td>0.0</td>\n",
       "      <td>11.871091</td>\n",
       "    </tr>\n",
       "    <tr>\n",
       "      <th>20</th>\n",
       "      <td>150</td>\n",
       "      <td>3.0</td>\n",
       "      <td>197.0</td>\n",
       "      <td>2231.808142</td>\n",
       "      <td>18.7</td>\n",
       "      <td>2011</td>\n",
       "      <td>Asia</td>\n",
       "      <td>Gasoline</td>\n",
       "      <td>Front-wheel drive</td>\n",
       "      <td>1.0</td>\n",
       "      <td>18.889083</td>\n",
       "    </tr>\n",
       "    <tr>\n",
       "      <th>21</th>\n",
       "      <td>160</td>\n",
       "      <td>4.0</td>\n",
       "      <td>133.0</td>\n",
       "      <td>2659.431451</td>\n",
       "      <td>NaN</td>\n",
       "      <td>2016</td>\n",
       "      <td>Asia</td>\n",
       "      <td>Gasoline</td>\n",
       "      <td>Front-wheel drive</td>\n",
       "      <td>-1.0</td>\n",
       "      <td>16.077730</td>\n",
       "    </tr>\n",
       "    <tr>\n",
       "      <th>...</th>\n",
       "      <td>...</td>\n",
       "      <td>...</td>\n",
       "      <td>...</td>\n",
       "      <td>...</td>\n",
       "      <td>...</td>\n",
       "      <td>...</td>\n",
       "      <td>...</td>\n",
       "      <td>...</td>\n",
       "      <td>...</td>\n",
       "      <td>...</td>\n",
       "      <td>...</td>\n",
       "    </tr>\n",
       "    <tr>\n",
       "      <th>9688</th>\n",
       "      <td>260</td>\n",
       "      <td>4.0</td>\n",
       "      <td>NaN</td>\n",
       "      <td>3948.404625</td>\n",
       "      <td>15.5</td>\n",
       "      <td>2018</td>\n",
       "      <td>Asia</td>\n",
       "      <td>Diesel</td>\n",
       "      <td>All-wheel drive</td>\n",
       "      <td>-1.0</td>\n",
       "      <td>11.054830</td>\n",
       "    </tr>\n",
       "    <tr>\n",
       "      <th>9692</th>\n",
       "      <td>180</td>\n",
       "      <td>3.0</td>\n",
       "      <td>188.0</td>\n",
       "      <td>3680.341381</td>\n",
       "      <td>18.0</td>\n",
       "      <td>2016</td>\n",
       "      <td>Asia</td>\n",
       "      <td>Gasoline</td>\n",
       "      <td>Front-wheel drive</td>\n",
       "      <td>1.0</td>\n",
       "      <td>11.711653</td>\n",
       "    </tr>\n",
       "    <tr>\n",
       "      <th>9693</th>\n",
       "      <td>280</td>\n",
       "      <td>2.0</td>\n",
       "      <td>148.0</td>\n",
       "      <td>2545.070139</td>\n",
       "      <td>15.6</td>\n",
       "      <td>2012</td>\n",
       "      <td>Asia</td>\n",
       "      <td>Diesel</td>\n",
       "      <td>All-wheel drive</td>\n",
       "      <td>0.0</td>\n",
       "      <td>17.202782</td>\n",
       "    </tr>\n",
       "    <tr>\n",
       "      <th>9698</th>\n",
       "      <td>180</td>\n",
       "      <td>1.0</td>\n",
       "      <td>131.0</td>\n",
       "      <td>3107.427820</td>\n",
       "      <td>13.2</td>\n",
       "      <td>2005</td>\n",
       "      <td>Asia</td>\n",
       "      <td>Gasoline</td>\n",
       "      <td>Front-wheel drive</td>\n",
       "      <td>-2.0</td>\n",
       "      <td>13.933716</td>\n",
       "    </tr>\n",
       "    <tr>\n",
       "      <th>9703</th>\n",
       "      <td>270</td>\n",
       "      <td>3.0</td>\n",
       "      <td>140.0</td>\n",
       "      <td>2908.043477</td>\n",
       "      <td>14.7</td>\n",
       "      <td>2005</td>\n",
       "      <td>Asia</td>\n",
       "      <td>Diesel</td>\n",
       "      <td>All-wheel drive</td>\n",
       "      <td>-1.0</td>\n",
       "      <td>14.884467</td>\n",
       "    </tr>\n",
       "  </tbody>\n",
       "</table>\n",
       "<p>3247 rows × 11 columns</p>\n",
       "</div>"
      ],
      "text/plain": [
       "      engine_displacement  num_cylinders  horsepower  vehicle_weight  \\\n",
       "8                     250            1.0       174.0     2714.219310   \n",
       "12                    320            5.0       145.0     2783.868974   \n",
       "14                    200            6.0       160.0     3582.687368   \n",
       "20                    150            3.0       197.0     2231.808142   \n",
       "21                    160            4.0       133.0     2659.431451   \n",
       "...                   ...            ...         ...             ...   \n",
       "9688                  260            4.0         NaN     3948.404625   \n",
       "9692                  180            3.0       188.0     3680.341381   \n",
       "9693                  280            2.0       148.0     2545.070139   \n",
       "9698                  180            1.0       131.0     3107.427820   \n",
       "9703                  270            3.0       140.0     2908.043477   \n",
       "\n",
       "      acceleration  model_year origin fuel_type         drivetrain  num_doors  \\\n",
       "8             10.3        2016   Asia    Diesel  Front-wheel drive       -1.0   \n",
       "12            15.1        2010   Asia    Diesel    All-wheel drive        1.0   \n",
       "14            14.9        2007   Asia    Diesel    All-wheel drive        0.0   \n",
       "20            18.7        2011   Asia  Gasoline  Front-wheel drive        1.0   \n",
       "21             NaN        2016   Asia  Gasoline  Front-wheel drive       -1.0   \n",
       "...            ...         ...    ...       ...                ...        ...   \n",
       "9688          15.5        2018   Asia    Diesel    All-wheel drive       -1.0   \n",
       "9692          18.0        2016   Asia  Gasoline  Front-wheel drive        1.0   \n",
       "9693          15.6        2012   Asia    Diesel    All-wheel drive        0.0   \n",
       "9698          13.2        2005   Asia  Gasoline  Front-wheel drive       -2.0   \n",
       "9703          14.7        2005   Asia    Diesel    All-wheel drive       -1.0   \n",
       "\n",
       "      fuel_efficiency_mpg  \n",
       "8               16.823554  \n",
       "12              16.175820  \n",
       "14              11.871091  \n",
       "20              18.889083  \n",
       "21              16.077730  \n",
       "...                   ...  \n",
       "9688            11.054830  \n",
       "9692            11.711653  \n",
       "9693            17.202782  \n",
       "9698            13.933716  \n",
       "9703            14.884467  \n",
       "\n",
       "[3247 rows x 11 columns]"
      ]
     },
     "execution_count": 10,
     "metadata": {},
     "output_type": "execute_result"
    }
   ],
   "source": [
    "# filter data with origin is Asia\n",
    "df_asia = df[df['origin'] == 'Asia']\n",
    "df_asia"
   ]
  },
  {
   "cell_type": "code",
   "execution_count": 11,
   "id": "e17091dc",
   "metadata": {},
   "outputs": [
    {
     "name": "stdout",
     "output_type": "stream",
     "text": [
      "Max fuel efficiency cars from Asia is 23.75\n"
     ]
    }
   ],
   "source": [
    "# filter the fuel efficiency mpg in Asia\n",
    "max_fuel_asia = df_asia['fuel_efficiency_mpg'].max()\n",
    "\n",
    "# truncate the value\n",
    "value = int(max_fuel_asia * 100) / 100\n",
    "\n",
    "# answer the question no 5\n",
    "print(f'Max fuel efficiency cars from Asia is {value:.2f}')"
   ]
  },
  {
   "cell_type": "markdown",
   "id": "a5183e9f",
   "metadata": {},
   "source": [
    "# Q6. Median value of horsepower\n",
    "- Has it changed?"
   ]
  },
  {
   "cell_type": "markdown",
   "id": "bb7ca3b1",
   "metadata": {},
   "source": [
    "1. Find the median value of `horsepower` column in dataset."
   ]
  },
  {
   "cell_type": "code",
   "execution_count": 12,
   "id": "959bb260",
   "metadata": {},
   "outputs": [
    {
     "name": "stdout",
     "output_type": "stream",
     "text": [
      "The median value of horsepower before calculate is 149.\n"
     ]
    }
   ],
   "source": [
    "# show the median of horsepower column\n",
    "median_horsepower = df['horsepower'].median()\n",
    "median_horsepower = int(median_horsepower)\n",
    "\n",
    "print(f'The median value of horsepower before calculate is {median_horsepower}.')"
   ]
  },
  {
   "cell_type": "markdown",
   "id": "e0d5076e",
   "metadata": {},
   "source": [
    "2. Next, calculate the most frequent value of same column `horsepower` column."
   ]
  },
  {
   "cell_type": "code",
   "execution_count": 13,
   "id": "ee6b793f",
   "metadata": {},
   "outputs": [
    {
     "name": "stdout",
     "output_type": "stream",
     "text": [
      "The most frequent value in horsepower column is 152.\n"
     ]
    }
   ],
   "source": [
    "# the most frequent value in horsepower column\n",
    "most_frequent_value = df['horsepower'].mode()[0]\n",
    "most_frequent_value = int(most_frequent_value)\n",
    "\n",
    "print(f'The most frequent value in horsepower column is {most_frequent_value}.')"
   ]
  },
  {
   "cell_type": "markdown",
   "id": "b0a20e9c",
   "metadata": {},
   "source": [
    "3. Use `fillna` method to fill the missing values in `horsepower` column with the most frequent value from the previous step."
   ]
  },
  {
   "cell_type": "code",
   "execution_count": 14,
   "id": "c8a54dd8",
   "metadata": {},
   "outputs": [
    {
     "data": {
      "text/html": [
       "<div>\n",
       "<style scoped>\n",
       "    .dataframe tbody tr th:only-of-type {\n",
       "        vertical-align: middle;\n",
       "    }\n",
       "\n",
       "    .dataframe tbody tr th {\n",
       "        vertical-align: top;\n",
       "    }\n",
       "\n",
       "    .dataframe thead th {\n",
       "        text-align: right;\n",
       "    }\n",
       "</style>\n",
       "<table border=\"1\" class=\"dataframe\">\n",
       "  <thead>\n",
       "    <tr style=\"text-align: right;\">\n",
       "      <th></th>\n",
       "      <th>horsepower</th>\n",
       "    </tr>\n",
       "  </thead>\n",
       "  <tbody>\n",
       "    <tr>\n",
       "      <th>0</th>\n",
       "      <td>159.0</td>\n",
       "    </tr>\n",
       "    <tr>\n",
       "      <th>1</th>\n",
       "      <td>97.0</td>\n",
       "    </tr>\n",
       "    <tr>\n",
       "      <th>2</th>\n",
       "      <td>78.0</td>\n",
       "    </tr>\n",
       "    <tr>\n",
       "      <th>3</th>\n",
       "      <td>152.0</td>\n",
       "    </tr>\n",
       "    <tr>\n",
       "      <th>4</th>\n",
       "      <td>140.0</td>\n",
       "    </tr>\n",
       "    <tr>\n",
       "      <th>...</th>\n",
       "      <td>...</td>\n",
       "    </tr>\n",
       "    <tr>\n",
       "      <th>9699</th>\n",
       "      <td>164.0</td>\n",
       "    </tr>\n",
       "    <tr>\n",
       "      <th>9700</th>\n",
       "      <td>154.0</td>\n",
       "    </tr>\n",
       "    <tr>\n",
       "      <th>9701</th>\n",
       "      <td>138.0</td>\n",
       "    </tr>\n",
       "    <tr>\n",
       "      <th>9702</th>\n",
       "      <td>177.0</td>\n",
       "    </tr>\n",
       "    <tr>\n",
       "      <th>9703</th>\n",
       "      <td>140.0</td>\n",
       "    </tr>\n",
       "  </tbody>\n",
       "</table>\n",
       "<p>9704 rows × 1 columns</p>\n",
       "</div>"
      ],
      "text/plain": [
       "      horsepower\n",
       "0          159.0\n",
       "1           97.0\n",
       "2           78.0\n",
       "3          152.0\n",
       "4          140.0\n",
       "...          ...\n",
       "9699       164.0\n",
       "9700       154.0\n",
       "9701       138.0\n",
       "9702       177.0\n",
       "9703       140.0\n",
       "\n",
       "[9704 rows x 1 columns]"
      ]
     },
     "execution_count": 14,
     "metadata": {},
     "output_type": "execute_result"
    }
   ],
   "source": [
    "# handled the missing value with most frequent value in horsepower column\n",
    "horsepower_clean = df[['horsepower']].fillna(most_frequent_value)\n",
    "horsepower_clean"
   ]
  },
  {
   "cell_type": "code",
   "execution_count": 15,
   "id": "4a3580a5",
   "metadata": {},
   "outputs": [
    {
     "data": {
      "text/plain": [
       "horsepower    0\n",
       "dtype: int64"
      ]
     },
     "execution_count": 15,
     "metadata": {},
     "output_type": "execute_result"
    }
   ],
   "source": [
    "# check missing values in horsepower column\n",
    "horsepower_clean.isnull().sum()"
   ]
  },
  {
   "cell_type": "markdown",
   "id": "2e184dce",
   "metadata": {},
   "source": [
    "4. Now, calculate the median value of `horsepower` oncae again."
   ]
  },
  {
   "cell_type": "code",
   "execution_count": 16,
   "id": "e0c67bfd",
   "metadata": {},
   "outputs": [
    {
     "name": "stdout",
     "output_type": "stream",
     "text": [
      "After handled the missing values in horse powe, the median value has changed. From 149 to 152.\n",
      "The answer of Question no.6 is \"Yes, it increased\".\n"
     ]
    }
   ],
   "source": [
    "# show the median of horsepower after using fillna method\n",
    "new_median = horsepower_clean['horsepower'].median()\n",
    "\n",
    "# answer the question no.6.\n",
    "print(f'After handled the missing values in horse powe, the median value has changed. From 149 to 152.')\n",
    "print('The answer of Question no.6 is \"Yes, it increased\".')"
   ]
  },
  {
   "cell_type": "markdown",
   "id": "041583c3",
   "metadata": {},
   "source": [
    "# Q7. Sum of weights"
   ]
  },
  {
   "cell_type": "markdown",
   "id": "60372981",
   "metadata": {},
   "source": [
    "1. Select all the cars from Asia.\n",
    "2. Select only columns `vehicle_weight` and `model_year`.\n",
    "3. Select the first 7 values.\n",
    "4. Get the underlying Numpy array. Let's call it `X`.\n",
    "5. Compute matrix-matrix multiplication between the transpose of `X` and `X`. To get the transpose, use `X.T`. Let's call the result is `XTX`.\n",
    "6. Invert `XTX`.\n",
    "7. Create an array `y` with values `[1100, 1300, 800, 900, 1000, 1100, 1200]`.\n",
    "8. Multiply the inverse of `XTX` with the transpose of `X`, and then multiply the result by `y`. Call the result is `w`.\n",
    "9. What's the sum of all the elements of the results? "
   ]
  },
  {
   "cell_type": "markdown",
   "id": "5c6a8d37",
   "metadata": {},
   "source": [
    "- Step by step for question no.7"
   ]
  },
  {
   "cell_type": "code",
   "execution_count": 17,
   "id": "fea09250",
   "metadata": {},
   "outputs": [
    {
     "data": {
      "text/html": [
       "<div>\n",
       "<style scoped>\n",
       "    .dataframe tbody tr th:only-of-type {\n",
       "        vertical-align: middle;\n",
       "    }\n",
       "\n",
       "    .dataframe tbody tr th {\n",
       "        vertical-align: top;\n",
       "    }\n",
       "\n",
       "    .dataframe thead th {\n",
       "        text-align: right;\n",
       "    }\n",
       "</style>\n",
       "<table border=\"1\" class=\"dataframe\">\n",
       "  <thead>\n",
       "    <tr style=\"text-align: right;\">\n",
       "      <th></th>\n",
       "      <th>engine_displacement</th>\n",
       "      <th>num_cylinders</th>\n",
       "      <th>horsepower</th>\n",
       "      <th>vehicle_weight</th>\n",
       "      <th>acceleration</th>\n",
       "      <th>model_year</th>\n",
       "      <th>origin</th>\n",
       "      <th>fuel_type</th>\n",
       "      <th>drivetrain</th>\n",
       "      <th>num_doors</th>\n",
       "      <th>fuel_efficiency_mpg</th>\n",
       "    </tr>\n",
       "  </thead>\n",
       "  <tbody>\n",
       "    <tr>\n",
       "      <th>8</th>\n",
       "      <td>250</td>\n",
       "      <td>1.0</td>\n",
       "      <td>174.0</td>\n",
       "      <td>2714.219310</td>\n",
       "      <td>10.3</td>\n",
       "      <td>2016</td>\n",
       "      <td>Asia</td>\n",
       "      <td>Diesel</td>\n",
       "      <td>Front-wheel drive</td>\n",
       "      <td>-1.0</td>\n",
       "      <td>16.823554</td>\n",
       "    </tr>\n",
       "    <tr>\n",
       "      <th>12</th>\n",
       "      <td>320</td>\n",
       "      <td>5.0</td>\n",
       "      <td>145.0</td>\n",
       "      <td>2783.868974</td>\n",
       "      <td>15.1</td>\n",
       "      <td>2010</td>\n",
       "      <td>Asia</td>\n",
       "      <td>Diesel</td>\n",
       "      <td>All-wheel drive</td>\n",
       "      <td>1.0</td>\n",
       "      <td>16.175820</td>\n",
       "    </tr>\n",
       "    <tr>\n",
       "      <th>14</th>\n",
       "      <td>200</td>\n",
       "      <td>6.0</td>\n",
       "      <td>160.0</td>\n",
       "      <td>3582.687368</td>\n",
       "      <td>14.9</td>\n",
       "      <td>2007</td>\n",
       "      <td>Asia</td>\n",
       "      <td>Diesel</td>\n",
       "      <td>All-wheel drive</td>\n",
       "      <td>0.0</td>\n",
       "      <td>11.871091</td>\n",
       "    </tr>\n",
       "    <tr>\n",
       "      <th>20</th>\n",
       "      <td>150</td>\n",
       "      <td>3.0</td>\n",
       "      <td>197.0</td>\n",
       "      <td>2231.808142</td>\n",
       "      <td>18.7</td>\n",
       "      <td>2011</td>\n",
       "      <td>Asia</td>\n",
       "      <td>Gasoline</td>\n",
       "      <td>Front-wheel drive</td>\n",
       "      <td>1.0</td>\n",
       "      <td>18.889083</td>\n",
       "    </tr>\n",
       "    <tr>\n",
       "      <th>21</th>\n",
       "      <td>160</td>\n",
       "      <td>4.0</td>\n",
       "      <td>133.0</td>\n",
       "      <td>2659.431451</td>\n",
       "      <td>NaN</td>\n",
       "      <td>2016</td>\n",
       "      <td>Asia</td>\n",
       "      <td>Gasoline</td>\n",
       "      <td>Front-wheel drive</td>\n",
       "      <td>-1.0</td>\n",
       "      <td>16.077730</td>\n",
       "    </tr>\n",
       "    <tr>\n",
       "      <th>...</th>\n",
       "      <td>...</td>\n",
       "      <td>...</td>\n",
       "      <td>...</td>\n",
       "      <td>...</td>\n",
       "      <td>...</td>\n",
       "      <td>...</td>\n",
       "      <td>...</td>\n",
       "      <td>...</td>\n",
       "      <td>...</td>\n",
       "      <td>...</td>\n",
       "      <td>...</td>\n",
       "    </tr>\n",
       "    <tr>\n",
       "      <th>9688</th>\n",
       "      <td>260</td>\n",
       "      <td>4.0</td>\n",
       "      <td>NaN</td>\n",
       "      <td>3948.404625</td>\n",
       "      <td>15.5</td>\n",
       "      <td>2018</td>\n",
       "      <td>Asia</td>\n",
       "      <td>Diesel</td>\n",
       "      <td>All-wheel drive</td>\n",
       "      <td>-1.0</td>\n",
       "      <td>11.054830</td>\n",
       "    </tr>\n",
       "    <tr>\n",
       "      <th>9692</th>\n",
       "      <td>180</td>\n",
       "      <td>3.0</td>\n",
       "      <td>188.0</td>\n",
       "      <td>3680.341381</td>\n",
       "      <td>18.0</td>\n",
       "      <td>2016</td>\n",
       "      <td>Asia</td>\n",
       "      <td>Gasoline</td>\n",
       "      <td>Front-wheel drive</td>\n",
       "      <td>1.0</td>\n",
       "      <td>11.711653</td>\n",
       "    </tr>\n",
       "    <tr>\n",
       "      <th>9693</th>\n",
       "      <td>280</td>\n",
       "      <td>2.0</td>\n",
       "      <td>148.0</td>\n",
       "      <td>2545.070139</td>\n",
       "      <td>15.6</td>\n",
       "      <td>2012</td>\n",
       "      <td>Asia</td>\n",
       "      <td>Diesel</td>\n",
       "      <td>All-wheel drive</td>\n",
       "      <td>0.0</td>\n",
       "      <td>17.202782</td>\n",
       "    </tr>\n",
       "    <tr>\n",
       "      <th>9698</th>\n",
       "      <td>180</td>\n",
       "      <td>1.0</td>\n",
       "      <td>131.0</td>\n",
       "      <td>3107.427820</td>\n",
       "      <td>13.2</td>\n",
       "      <td>2005</td>\n",
       "      <td>Asia</td>\n",
       "      <td>Gasoline</td>\n",
       "      <td>Front-wheel drive</td>\n",
       "      <td>-2.0</td>\n",
       "      <td>13.933716</td>\n",
       "    </tr>\n",
       "    <tr>\n",
       "      <th>9703</th>\n",
       "      <td>270</td>\n",
       "      <td>3.0</td>\n",
       "      <td>140.0</td>\n",
       "      <td>2908.043477</td>\n",
       "      <td>14.7</td>\n",
       "      <td>2005</td>\n",
       "      <td>Asia</td>\n",
       "      <td>Diesel</td>\n",
       "      <td>All-wheel drive</td>\n",
       "      <td>-1.0</td>\n",
       "      <td>14.884467</td>\n",
       "    </tr>\n",
       "  </tbody>\n",
       "</table>\n",
       "<p>3247 rows × 11 columns</p>\n",
       "</div>"
      ],
      "text/plain": [
       "      engine_displacement  num_cylinders  horsepower  vehicle_weight  \\\n",
       "8                     250            1.0       174.0     2714.219310   \n",
       "12                    320            5.0       145.0     2783.868974   \n",
       "14                    200            6.0       160.0     3582.687368   \n",
       "20                    150            3.0       197.0     2231.808142   \n",
       "21                    160            4.0       133.0     2659.431451   \n",
       "...                   ...            ...         ...             ...   \n",
       "9688                  260            4.0         NaN     3948.404625   \n",
       "9692                  180            3.0       188.0     3680.341381   \n",
       "9693                  280            2.0       148.0     2545.070139   \n",
       "9698                  180            1.0       131.0     3107.427820   \n",
       "9703                  270            3.0       140.0     2908.043477   \n",
       "\n",
       "      acceleration  model_year origin fuel_type         drivetrain  num_doors  \\\n",
       "8             10.3        2016   Asia    Diesel  Front-wheel drive       -1.0   \n",
       "12            15.1        2010   Asia    Diesel    All-wheel drive        1.0   \n",
       "14            14.9        2007   Asia    Diesel    All-wheel drive        0.0   \n",
       "20            18.7        2011   Asia  Gasoline  Front-wheel drive        1.0   \n",
       "21             NaN        2016   Asia  Gasoline  Front-wheel drive       -1.0   \n",
       "...            ...         ...    ...       ...                ...        ...   \n",
       "9688          15.5        2018   Asia    Diesel    All-wheel drive       -1.0   \n",
       "9692          18.0        2016   Asia  Gasoline  Front-wheel drive        1.0   \n",
       "9693          15.6        2012   Asia    Diesel    All-wheel drive        0.0   \n",
       "9698          13.2        2005   Asia  Gasoline  Front-wheel drive       -2.0   \n",
       "9703          14.7        2005   Asia    Diesel    All-wheel drive       -1.0   \n",
       "\n",
       "      fuel_efficiency_mpg  \n",
       "8               16.823554  \n",
       "12              16.175820  \n",
       "14              11.871091  \n",
       "20              18.889083  \n",
       "21              16.077730  \n",
       "...                   ...  \n",
       "9688            11.054830  \n",
       "9692            11.711653  \n",
       "9693            17.202782  \n",
       "9698            13.933716  \n",
       "9703            14.884467  \n",
       "\n",
       "[3247 rows x 11 columns]"
      ]
     },
     "execution_count": 17,
     "metadata": {},
     "output_type": "execute_result"
    }
   ],
   "source": [
    "# select all the cars from Asia\n",
    "cars_from_asia = df[df['origin'] == 'Asia']\n",
    "cars_from_asia"
   ]
  },
  {
   "cell_type": "code",
   "execution_count": 18,
   "id": "aebb6ab6",
   "metadata": {},
   "outputs": [
    {
     "data": {
      "text/html": [
       "<div>\n",
       "<style scoped>\n",
       "    .dataframe tbody tr th:only-of-type {\n",
       "        vertical-align: middle;\n",
       "    }\n",
       "\n",
       "    .dataframe tbody tr th {\n",
       "        vertical-align: top;\n",
       "    }\n",
       "\n",
       "    .dataframe thead th {\n",
       "        text-align: right;\n",
       "    }\n",
       "</style>\n",
       "<table border=\"1\" class=\"dataframe\">\n",
       "  <thead>\n",
       "    <tr style=\"text-align: right;\">\n",
       "      <th></th>\n",
       "      <th>vehicle_weight</th>\n",
       "      <th>model_year</th>\n",
       "    </tr>\n",
       "  </thead>\n",
       "  <tbody>\n",
       "    <tr>\n",
       "      <th>8</th>\n",
       "      <td>2714.219310</td>\n",
       "      <td>2016</td>\n",
       "    </tr>\n",
       "    <tr>\n",
       "      <th>12</th>\n",
       "      <td>2783.868974</td>\n",
       "      <td>2010</td>\n",
       "    </tr>\n",
       "    <tr>\n",
       "      <th>14</th>\n",
       "      <td>3582.687368</td>\n",
       "      <td>2007</td>\n",
       "    </tr>\n",
       "    <tr>\n",
       "      <th>20</th>\n",
       "      <td>2231.808142</td>\n",
       "      <td>2011</td>\n",
       "    </tr>\n",
       "    <tr>\n",
       "      <th>21</th>\n",
       "      <td>2659.431451</td>\n",
       "      <td>2016</td>\n",
       "    </tr>\n",
       "    <tr>\n",
       "      <th>...</th>\n",
       "      <td>...</td>\n",
       "      <td>...</td>\n",
       "    </tr>\n",
       "    <tr>\n",
       "      <th>9688</th>\n",
       "      <td>3948.404625</td>\n",
       "      <td>2018</td>\n",
       "    </tr>\n",
       "    <tr>\n",
       "      <th>9692</th>\n",
       "      <td>3680.341381</td>\n",
       "      <td>2016</td>\n",
       "    </tr>\n",
       "    <tr>\n",
       "      <th>9693</th>\n",
       "      <td>2545.070139</td>\n",
       "      <td>2012</td>\n",
       "    </tr>\n",
       "    <tr>\n",
       "      <th>9698</th>\n",
       "      <td>3107.427820</td>\n",
       "      <td>2005</td>\n",
       "    </tr>\n",
       "    <tr>\n",
       "      <th>9703</th>\n",
       "      <td>2908.043477</td>\n",
       "      <td>2005</td>\n",
       "    </tr>\n",
       "  </tbody>\n",
       "</table>\n",
       "<p>3247 rows × 2 columns</p>\n",
       "</div>"
      ],
      "text/plain": [
       "      vehicle_weight  model_year\n",
       "8        2714.219310        2016\n",
       "12       2783.868974        2010\n",
       "14       3582.687368        2007\n",
       "20       2231.808142        2011\n",
       "21       2659.431451        2016\n",
       "...              ...         ...\n",
       "9688     3948.404625        2018\n",
       "9692     3680.341381        2016\n",
       "9693     2545.070139        2012\n",
       "9698     3107.427820        2005\n",
       "9703     2908.043477        2005\n",
       "\n",
       "[3247 rows x 2 columns]"
      ]
     },
     "execution_count": 18,
     "metadata": {},
     "output_type": "execute_result"
    }
   ],
   "source": [
    "# select vehicle_weight and model year columns\n",
    "selected_col = cars_from_asia[['vehicle_weight', 'model_year']]\n",
    "selected_col"
   ]
  },
  {
   "cell_type": "code",
   "execution_count": 19,
   "id": "a19cc189",
   "metadata": {},
   "outputs": [
    {
     "data": {
      "text/html": [
       "<div>\n",
       "<style scoped>\n",
       "    .dataframe tbody tr th:only-of-type {\n",
       "        vertical-align: middle;\n",
       "    }\n",
       "\n",
       "    .dataframe tbody tr th {\n",
       "        vertical-align: top;\n",
       "    }\n",
       "\n",
       "    .dataframe thead th {\n",
       "        text-align: right;\n",
       "    }\n",
       "</style>\n",
       "<table border=\"1\" class=\"dataframe\">\n",
       "  <thead>\n",
       "    <tr style=\"text-align: right;\">\n",
       "      <th></th>\n",
       "      <th>vehicle_weight</th>\n",
       "      <th>model_year</th>\n",
       "    </tr>\n",
       "  </thead>\n",
       "  <tbody>\n",
       "    <tr>\n",
       "      <th>0</th>\n",
       "      <td>2714.219310</td>\n",
       "      <td>2016</td>\n",
       "    </tr>\n",
       "    <tr>\n",
       "      <th>1</th>\n",
       "      <td>2783.868974</td>\n",
       "      <td>2010</td>\n",
       "    </tr>\n",
       "    <tr>\n",
       "      <th>2</th>\n",
       "      <td>3582.687368</td>\n",
       "      <td>2007</td>\n",
       "    </tr>\n",
       "    <tr>\n",
       "      <th>3</th>\n",
       "      <td>2231.808142</td>\n",
       "      <td>2011</td>\n",
       "    </tr>\n",
       "    <tr>\n",
       "      <th>4</th>\n",
       "      <td>2659.431451</td>\n",
       "      <td>2016</td>\n",
       "    </tr>\n",
       "    <tr>\n",
       "      <th>5</th>\n",
       "      <td>2844.227534</td>\n",
       "      <td>2014</td>\n",
       "    </tr>\n",
       "    <tr>\n",
       "      <th>6</th>\n",
       "      <td>3761.994038</td>\n",
       "      <td>2019</td>\n",
       "    </tr>\n",
       "  </tbody>\n",
       "</table>\n",
       "</div>"
      ],
      "text/plain": [
       "   vehicle_weight  model_year\n",
       "0     2714.219310        2016\n",
       "1     2783.868974        2010\n",
       "2     3582.687368        2007\n",
       "3     2231.808142        2011\n",
       "4     2659.431451        2016\n",
       "5     2844.227534        2014\n",
       "6     3761.994038        2019"
      ]
     },
     "execution_count": 19,
     "metadata": {},
     "output_type": "execute_result"
    }
   ],
   "source": [
    "# select the first 7 values\n",
    "selected_values = selected_col.head(7).reset_index(drop=True)\n",
    "selected_values"
   ]
  },
  {
   "cell_type": "code",
   "execution_count": 20,
   "id": "eee3d3f1",
   "metadata": {},
   "outputs": [
    {
     "data": {
      "text/plain": [
       "array([[2714.21930965, 2016.        ],\n",
       "       [2783.86897424, 2010.        ],\n",
       "       [3582.68736772, 2007.        ],\n",
       "       [2231.8081416 , 2011.        ],\n",
       "       [2659.43145076, 2016.        ],\n",
       "       [2844.22753389, 2014.        ],\n",
       "       [3761.99403819, 2019.        ]])"
      ]
     },
     "execution_count": 20,
     "metadata": {},
     "output_type": "execute_result"
    }
   ],
   "source": [
    "# define a X variable from the values \n",
    "X = selected_values.to_numpy()\n",
    "X"
   ]
  },
  {
   "cell_type": "code",
   "execution_count": 21,
   "id": "3801193a",
   "metadata": {},
   "outputs": [
    {
     "data": {
      "text/plain": [
       "array([[2714.21930965, 2783.86897424, 3582.68736772, 2231.8081416 ,\n",
       "        2659.43145076, 2844.22753389, 3761.99403819],\n",
       "       [2016.        , 2010.        , 2007.        , 2011.        ,\n",
       "        2016.        , 2014.        , 2019.        ]])"
      ]
     },
     "execution_count": 21,
     "metadata": {},
     "output_type": "execute_result"
    }
   ],
   "source": [
    "# transpose of X\n",
    "X_T = X.T\n",
    "X_T"
   ]
  },
  {
   "cell_type": "code",
   "execution_count": 22,
   "id": "b7d9eb9a",
   "metadata": {},
   "outputs": [],
   "source": [
    "# vector-vector multiplication function\n",
    "def vector_vector_multiplication(u, v):\n",
    "    assert u.shape[0] == v.shape[0]\n",
    "    \n",
    "    n = u.shape[0]\n",
    "    \n",
    "    result = 0.0\n",
    "\n",
    "    for i in range(n):\n",
    "        result = result + u[i] * v[i]\n",
    "    \n",
    "    return result\n",
    " \n",
    "# matrix-vector multiplication function \n",
    "def matrix_vector_multiplication(U, v):\n",
    "    assert U.shape[1] == v.shape[0]\n",
    "    \n",
    "    num_rows = U.shape[0]\n",
    "    \n",
    "    result = np.zeros(num_rows)\n",
    "    \n",
    "    for i in range(num_rows):\n",
    "        result[i] = vector_vector_multiplication(U[i], v)\n",
    "    \n",
    "    return result\n",
    "  \n",
    "# matrix-matrix multiplication function\n",
    "def matrix_matrix_multiplication(U, V):\n",
    "    assert U.shape[1] == V.shape[0]\n",
    "    \n",
    "    num_rows = U.shape[0]\n",
    "    num_cols = V.shape[1]\n",
    "    \n",
    "    result = np.zeros((num_rows, num_cols))\n",
    "    \n",
    "    for i in range(num_cols):\n",
    "        vi = V[:, i]\n",
    "        Uvi = matrix_vector_multiplication(U, vi)\n",
    "        result[:, i] = Uvi\n",
    "    \n",
    "    return result"
   ]
  },
  {
   "cell_type": "code",
   "execution_count": 23,
   "id": "ea6a5b0b",
   "metadata": {},
   "outputs": [
    {
     "data": {
      "text/plain": [
       "array([[11431242.46085133, 11608190.92541486, 13770311.23387465,\n",
       "        10111792.75336224, 11282536.19632532, 11780081.29349753,\n",
       "        14281180.86123177],\n",
       "       [11608190.92541486, 11790026.46575708, 14007802.20739725,\n",
       "        10255171.44187306, 11455668.70489329, 11966096.78727446,\n",
       "        14531088.48421337],\n",
       "       [13770311.23387465, 14007802.20739725, 16863697.77478558,\n",
       "        12031947.83608462, 13574023.463935  , 14232076.05656009,\n",
       "        17530181.51805091],\n",
       "       [10111792.75336224, 10255171.44187306, 12031947.83608462,\n",
       "         9025088.58092514,  9989516.7638366 , 10397924.16669749,\n",
       "        12456257.9230991 ],\n",
       "       [11282536.19632532, 11455668.70489329, 13574023.463935  ,\n",
       "         9989516.7638366 , 11136831.64128077, 11624252.15672766,\n",
       "        14075069.26273247],\n",
       "       [11780081.29349753, 11966096.78727446, 14232076.05656009,\n",
       "        10397924.16669749, 11624252.15672766, 12145826.2645139 ,\n",
       "        14766233.02574041],\n",
       "       [14281180.86123177, 14531088.48421337, 17530181.51805091,\n",
       "        12456257.9230991 , 14075069.26273247, 14766233.02574041,\n",
       "        18228960.14339381]])"
      ]
     },
     "execution_count": 23,
     "metadata": {},
     "output_type": "execute_result"
    }
   ],
   "source": [
    "# define XTX \n",
    "XTX = matrix_matrix_multiplication(X, X_T)\n",
    "XTX"
   ]
  },
  {
   "cell_type": "code",
   "execution_count": 24,
   "id": "9c1ba7ed",
   "metadata": {},
   "outputs": [
    {
     "data": {
      "text/plain": [
       "array([[ 3.19409743e+08, -3.45971801e+07, -2.78324217e+08,\n",
       "        -7.78241981e+07,  1.67379982e+07, -1.72136419e+08,\n",
       "         2.24690639e+08],\n",
       "       [ 2.57200169e+08,  8.20389195e+08, -1.13765246e+08,\n",
       "        -1.69634178e+08, -4.41130505e+08, -3.27953379e+08,\n",
       "        -2.38828329e+07],\n",
       "       [-3.90723642e+08, -2.16060684e+08,  1.34235309e+08,\n",
       "         3.24009117e+08,  7.45998855e+07,  2.31725421e+07,\n",
       "         5.14736846e+07],\n",
       "       [-3.31264254e+08, -2.14510114e+08,  3.86914074e+08,\n",
       "         2.84922793e+08,  1.32418220e+08, -9.49560850e+07,\n",
       "        -1.61582860e+08],\n",
       "       [ 1.80453141e+08, -2.20054218e+08, -1.83259500e+08,\n",
       "        -3.00070277e+07, -2.40526282e+08,  3.98003878e+08,\n",
       "         9.40973588e+07],\n",
       "       [-2.36464343e+08, -1.67629002e+08, -7.57998715e+06,\n",
       "        -2.26195328e+08,  5.04299633e+08,  2.18313030e+08,\n",
       "        -8.54939349e+07],\n",
       "       [ 1.99057968e+08,  3.31913714e+07,  6.28987345e+07,\n",
       "        -1.03693014e+08, -4.64809203e+07, -4.52677339e+07,\n",
       "        -9.94808706e+07]])"
      ]
     },
     "execution_count": 24,
     "metadata": {},
     "output_type": "execute_result"
    }
   ],
   "source": [
    "# invert of XTX\n",
    "XTX_inv = np.linalg.inv(XTX)\n",
    "XTX_inv"
   ]
  },
  {
   "cell_type": "code",
   "execution_count": 25,
   "id": "523bc7a0",
   "metadata": {},
   "outputs": [
    {
     "data": {
      "text/plain": [
       "array([1100, 1300,  800,  900, 1000, 1100, 1200])"
      ]
     },
     "execution_count": 25,
     "metadata": {},
     "output_type": "execute_result"
    }
   ],
   "source": [
    "# create variable of y\n",
    "y = np.array([1100, 1300, 800, 900, 1000, 1100, 1200])\n",
    "y"
   ]
  },
  {
   "cell_type": "code",
   "execution_count": 26,
   "id": "c7efcbdb",
   "metadata": {},
   "outputs": [
    {
     "name": "stdout",
     "output_type": "stream",
     "text": [
      "Shape of X (7, 2)\n",
      "Shape of X_T (2, 7)\n",
      "Shape of XTX (7, 7)\n",
      "Shape of XTX_inv (7, 7)\n"
     ]
    }
   ],
   "source": [
    "# shows the shape of various data\n",
    "X_shape = X.shape\n",
    "X_T_shape = X_T.shape\n",
    "XTX_shape = XTX.shape\n",
    "XTX_inv_shape = XTX_inv.shape\n",
    "\n",
    "print('Shape of X', X_shape)\n",
    "print('Shape of X_T', X_T_shape)\n",
    "print('Shape of XTX', XTX.shape)\n",
    "print('Shape of XTX_inv', XTX_inv_shape)"
   ]
  },
  {
   "cell_type": "code",
   "execution_count": 27,
   "id": "bc2f8a78",
   "metadata": {},
   "outputs": [
    {
     "data": {
      "text/plain": [
       "array([0.21362305, 0.29830933])"
      ]
     },
     "execution_count": 27,
     "metadata": {},
     "output_type": "execute_result"
    }
   ],
   "source": [
    "# define first formula and w\n",
    "formula_1 = matrix_matrix_multiplication(X_T, XTX_inv)\n",
    "w = matrix_vector_multiplication(formula_1, y)\n",
    "\n",
    "# show the w\n",
    "w"
   ]
  },
  {
   "cell_type": "code",
   "execution_count": 28,
   "id": "d88ed763",
   "metadata": {},
   "outputs": [
    {
     "name": "stdout",
     "output_type": "stream",
     "text": [
      "The sum of all the elements of the result is 0.51\n"
     ]
    }
   ],
   "source": [
    "# total value in w variable\n",
    "result = w[0] + w[1]\n",
    "result = int(result * 100) / 100\n",
    "\n",
    "# answer the question no.7\n",
    "print(f'The sum of all the elements of the result is {result}')"
   ]
  }
 ],
 "metadata": {
  "kernelspec": {
   "display_name": "ml-zoomcamp",
   "language": "python",
   "name": "python3"
  },
  "language_info": {
   "codemirror_mode": {
    "name": "ipython",
    "version": 3
   },
   "file_extension": ".py",
   "mimetype": "text/x-python",
   "name": "python",
   "nbconvert_exporter": "python",
   "pygments_lexer": "ipython3",
   "version": "3.11.13"
  }
 },
 "nbformat": 4,
 "nbformat_minor": 5
}
